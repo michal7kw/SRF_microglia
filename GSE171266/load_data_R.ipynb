{
 "cells": [
  {
   "cell_type": "markdown",
   "metadata": {},
   "source": [
    "# Environment setup"
   ]
  },
  {
   "cell_type": "code",
   "execution_count": null,
   "metadata": {},
   "outputs": [],
   "source": [
    "import rpy2\n",
    "from rpy2.robjects import pandas2ri\n",
    "pandas2ri.activate()"
   ]
  },
  {
   "cell_type": "code",
   "execution_count": null,
   "metadata": {},
   "outputs": [],
   "source": [
    "%load_ext rpy2.ipython"
   ]
  },
  {
   "cell_type": "code",
   "execution_count": null,
   "metadata": {},
   "outputs": [],
   "source": [
    "%%R\n",
    "library(patchwork)\n",
    "library(Seurat)\n",
    "library(SeuratDisk)\n",
    "library(ggplot2)\n",
    "library(dplyr)\n",
    "library(DESeq2)\n",
    "library(pheatmap)"
   ]
  },
  {
   "cell_type": "code",
   "execution_count": null,
   "metadata": {},
   "outputs": [],
   "source": [
    "%%R\n",
    "cluster = TRUE"
   ]
  },
  {
   "cell_type": "code",
   "execution_count": null,
   "metadata": {},
   "outputs": [],
   "source": [
    "%%R\n",
    "# Check if the directory exists before setting it\n",
    "if (cluster) {\n",
    "  dir_path <- \"/beegfs/scratch/ric.broccoli/kubacki.michal/SRF_microglia/GSE171266\"\n",
    "} else {\n",
    "  dir_path <- \"/home/michal/WSL_GitHub/SRF_microglia/data/GSE171266\"\n",
    "}\n",
    "\n",
    "if (dir.exists(dir_path)) {\n",
    "  setwd(dir_path)\n",
    "} else {\n",
    "  warning(paste(\"Directory\", dir_path, \"does not exist. Working directory not changed.\"))\n",
    "}\n",
    "\n",
    "# Load single-cell data\n",
    "load_10x_data <- function(path, sample_name) {\n",
    "  if (!dir.exists(path)) {\n",
    "    stop(paste(\"Directory\", path, \"does not exist.\"))\n",
    "  }\n",
    "  data <- Read10X(data.dir = path)\n",
    "  seurat_obj <- CreateSeuratObject(counts = data, project = sample_name, min.cells = 3, min.features = 200)\n",
    "  seurat_obj$sample <- sample_name\n",
    "  return(seurat_obj)\n",
    "}"
   ]
  },
  {
   "cell_type": "markdown",
   "metadata": {},
   "source": [
    "# Load raw data"
   ]
  },
  {
   "cell_type": "code",
   "execution_count": null,
   "metadata": {},
   "outputs": [],
   "source": [
    "%%R\n",
    "wt_data <- load_10x_data(\"./data/GSM5221533_1\", \"WT_D686D\")\n",
    "mut_data <- load_10x_data(\"./data/GSM5221534_2\", \"Mut_D868N\")"
   ]
  },
  {
   "cell_type": "code",
   "execution_count": null,
   "metadata": {},
   "outputs": [],
   "source": [
    "%%R\n",
    "# Merge datasets\n",
    "combined_data <- merge(wt_data, mut_data)"
   ]
  },
  {
   "cell_type": "markdown",
   "metadata": {},
   "source": [
    "## Save raw data"
   ]
  },
  {
   "cell_type": "code",
   "execution_count": null,
   "metadata": {},
   "outputs": [],
   "source": [
    "%%R\n",
    "# Display summary of combined_data\n",
    "print(combined_data)\n",
    "\n",
    "# Save the Seurat object to a file\n",
    "saveRDS(combined_data, file = \"./output/combined_data.rds\")\n",
    "\n",
    "# Confirm the file was saved\n",
    "if (file.exists(\"./output/combined_data.rds\")) {\n",
    "  cat(\"Seurat object saved successfully to combined_data.rds\\n\")\n",
    "} else {\n",
    "  cat(\"Error: Failed to save Seurat object\\n\")\n",
    "}"
   ]
  },
  {
   "cell_type": "code",
   "execution_count": null,
   "metadata": {},
   "outputs": [],
   "source": [
    "%%R\n",
    "# Load the Seurat object from the saved file\n",
    "combined_data <- readRDS(\"./output/combined_data.rds\")\n",
    "\n",
    "# Verify that the object was loaded correctly\n",
    "if (is(combined_data, \"Seurat\")) {\n",
    "  cat(\"Seurat object loaded successfully from combined_data.rds\\n\")\n",
    "  print(combined_data)\n",
    "} else {\n",
    "  cat(\"Error: Failed to load Seurat object or loaded object is not a Seurat object\\n\")\n",
    "}"
   ]
  },
  {
   "cell_type": "markdown",
   "metadata": {},
   "source": [
    "# Fltere and process data"
   ]
  },
  {
   "cell_type": "code",
   "execution_count": null,
   "metadata": {},
   "outputs": [],
   "source": [
    "%%R\n",
    "# Calculate quality control metrics\n",
    "combined_data[[\"percent.mt\"]] <- PercentageFeatureSet(combined_data, pattern = \"^MT-\")"
   ]
  },
  {
   "cell_type": "code",
   "execution_count": null,
   "metadata": {},
   "outputs": [],
   "source": [
    "%%R\n",
    "head(combined_data@meta.data)"
   ]
  },
  {
   "cell_type": "code",
   "execution_count": null,
   "metadata": {},
   "outputs": [],
   "source": [
    "%%R\n",
    "library(cowplot)\n",
    "plot_qc_metrics <- function(seurat_obj) {\n",
    "  # Ensure we're using the correct assay\n",
    "  DefaultAssay(seurat_obj) <- \"RNA\"\n",
    "  \n",
    "  # Extract metadata and ensure 'sample' is a factor\n",
    "  metadata <- seurat_obj@meta.data %>%\n",
    "    mutate(sample = factor(sample))\n",
    "  \n",
    "  # Custom theme\n",
    "  my_theme <- theme_cowplot() +\n",
    "    theme(\n",
    "      axis.title = element_text(size = 12, face = \"bold\"),\n",
    "      axis.text = element_text(size = 10),\n",
    "      plot.title = element_text(size = 14, face = \"bold\", hjust = 0.5),\n",
    "      legend.position = \"bottom\",\n",
    "      legend.title = element_blank(),\n",
    "      strip.background = element_blank(),\n",
    "      strip.text = element_text(size = 12, face = \"bold\")\n",
    "    )\n",
    "\n",
    "  # Color palette\n",
    "  colors <- c(\"#E69F00\", \"#56B4E9\")\n",
    "\n",
    "  # Function to create violin plot with reduced point density\n",
    "  create_violin <- function(feature, title, yintercept = NULL) {\n",
    "    p <- ggplot(metadata, aes(x = sample, y = !!sym(feature), fill = sample)) +\n",
    "      geom_violin(alpha = 0.7) +\n",
    "      geom_jitter(size = 0.1, alpha = 0.1, width = 0.2) +\n",
    "      scale_fill_manual(values = colors) +\n",
    "      labs(title = title, y = title, x = \"\") +\n",
    "      my_theme\n",
    "\n",
    "    if (!is.null(yintercept)) {\n",
    "      p <- p + geom_hline(yintercept = yintercept, color = \"red\", linetype = \"dashed\")\n",
    "    }\n",
    "    \n",
    "    return(p)\n",
    "  }\n",
    "\n",
    "  p1 <- create_violin(\"nFeature_RNA\", \"Number of Genes\", c(200, 3000)) +\n",
    "    scale_y_continuous(labels = scales::comma)\n",
    "\n",
    "  p2 <- create_violin(\"nCount_RNA\", \"Number of UMIs\", 10000) +\n",
    "    scale_y_continuous(labels = scales::comma)\n",
    "\n",
    "  p3 <- create_violin(\"percent.mt\", \"Percentage of Mitochondrial Genes\", 20)\n",
    "\n",
    "  # Scatter plot with hexbin to reduce overplotting\n",
    "  p4 <- ggplot(metadata, aes(x = nCount_RNA, y = nFeature_RNA, color = sample)) +\n",
    "    geom_hex(bins = 100, aes(fill = ..count..), show.legend = FALSE) +\n",
    "    scale_fill_viridis_c() +\n",
    "    geom_vline(xintercept = 10000, color = \"red\", linetype = \"dashed\") +\n",
    "    geom_hline(yintercept = c(200, 3000), color = \"red\", linetype = \"dashed\") +\n",
    "    labs(title = \"Genes vs UMIs\", x = \"Number of UMIs\", y = \"Number of Genes\") +\n",
    "    scale_color_manual(values = colors) +\n",
    "    my_theme +\n",
    "    scale_x_continuous(labels = scales::comma) +\n",
    "    scale_y_continuous(labels = scales::comma)\n",
    "\n",
    "  # Combine plots\n",
    "  combined_plot <- (p1 + p2) / (p3 + p4) +\n",
    "    plot_layout(guides = \"collect\") &\n",
    "    theme(legend.position = \"bottom\")\n",
    "\n",
    "  return(combined_plot)\n",
    "}\n",
    "\n",
    "# Create and display plots in notebook\n",
    "print(plot_qc_metrics(combined_data))"
   ]
  },
  {
   "cell_type": "code",
   "execution_count": null,
   "metadata": {},
   "outputs": [],
   "source": [
    "%%R\n",
    "# Filter cells (you can modify these thresholds based on the plots)\n",
    "combined_data <- subset(combined_data, subset = nFeature_RNA > 200 & nFeature_RNA < 3000 & \n",
    "                        nCount_RNA < 10000 & percent.mt < 20)"
   ]
  },
  {
   "cell_type": "code",
   "execution_count": null,
   "metadata": {},
   "outputs": [],
   "source": [
    "%%R\n",
    "# Create and display plots in notebook\n",
    "print(plot_qc_metrics(combined_data))"
   ]
  },
  {
   "cell_type": "code",
   "execution_count": null,
   "metadata": {},
   "outputs": [],
   "source": [
    "%%R\n",
    "# Normalize data\n",
    "combined_data <- NormalizeData(combined_data)"
   ]
  },
  {
   "cell_type": "code",
   "execution_count": null,
   "metadata": {},
   "outputs": [],
   "source": [
    "%%R\n",
    "# Find variable features\n",
    "combined_data <- FindVariableFeatures(combined_data, selection.method = \"vst\", nfeatures = 2000)"
   ]
  },
  {
   "cell_type": "code",
   "execution_count": null,
   "metadata": {},
   "outputs": [],
   "source": [
    "%%R\n",
    "# Scale data\n",
    "# all_genes <- rownames(combined_data)\n",
    "variable_genes <- VariableFeatures(combined_data)\n",
    "combined_data <- ScaleData(combined_data, features = variable_genes)"
   ]
  },
  {
   "cell_type": "code",
   "execution_count": null,
   "metadata": {},
   "outputs": [],
   "source": [
    "%%R\n",
    "# Run PCA\n",
    "combined_data <- RunPCA(combined_data, features = VariableFeatures(object = combined_data))"
   ]
  },
  {
   "cell_type": "code",
   "execution_count": null,
   "metadata": {},
   "outputs": [],
   "source": [
    "%%R\n",
    "# Find neighbors and run UMAP\n",
    "combined_data <- FindNeighbors(combined_data, dims = 1:40)\n",
    "combined_data <- RunUMAP(combined_data, dims = 1:40)"
   ]
  },
  {
   "cell_type": "code",
   "execution_count": null,
   "metadata": {},
   "outputs": [],
   "source": [
    "%%R\n",
    "# Save the Seurat object before clustering\n",
    "saveRDS(combined_data, file = \"./output/GSE171266_before_clustering.rds\")"
   ]
  },
  {
   "cell_type": "markdown",
   "metadata": {},
   "source": [
    "# Load the saved Seurat object"
   ]
  },
  {
   "cell_type": "code",
   "execution_count": null,
   "metadata": {},
   "outputs": [],
   "source": [
    "%%R\n",
    "# Load the saved Seurat object\n",
    "combined_data <- readRDS(\"./output/GSE171266_before_clustering.rds\")"
   ]
  },
  {
   "cell_type": "code",
   "execution_count": null,
   "metadata": {},
   "outputs": [],
   "source": [
    "%%R\n",
    "combined_data"
   ]
  },
  {
   "cell_type": "code",
   "execution_count": null,
   "metadata": {},
   "outputs": [
    {
     "name": "stderr",
     "output_type": "stream",
     "text": [
      "IOStream.flush timed out\n",
      "IOStream.flush timed out\n"
     ]
    }
   ],
   "source": [
    "%%R\n",
    "# Perform clustering\n",
    "# Set random seed for reproducibility\n",
    "set.seed(42)\n",
    "\n",
    "# Increase the memory limit for R\n",
    "options(future.globals.maxSize = 64 * 1024^3)  # Set to 8GB\n",
    "\n",
    "# Set future.seed to TRUE to ensure proper random number generation\n",
    "future::plan(\"multicore\", workers = parallel::detectCores() - 1)\n",
    "\n",
    "# Use Louvain algorithm with optimized parameters\n",
    "combined_data <- FindClusters(\n",
    "  object = combined_data,\n",
    "  resolution = 1.0,\n",
    "  algorithm = 1,\n",
    "  method = \"igraph\",  # Use igraph method for larger datasets\n",
    "  n.start = 20,       # Increase number of random starts for better optimization\n",
    "  n.iter = 20,        # Increase max iterations for more thorough optimization\n",
    "  random.seed = 42,   # Set random seed for reproducibility\n",
    "  verbose = TRUE      # Print progress\n",
    ")\n",
    "\n",
    "# Print clustering progress\n",
    "print(paste(\"Number of clusters:\", length(unique(Idents(combined_data)))))\n",
    "\n",
    "# Calculate and print modularity score\n",
    "modularity_score <- modularity(\n",
    "  graph = combined_data@graphs$RNA_snn, \n",
    "  membership = Idents(combined_data)\n",
    ")\n",
    "print(paste(\"Modularity score:\", modularity_score))\n",
    "\n",
    "# If memory issues persist, try these alternatives:\n",
    "# 1. Subset cells\n",
    "# subset_cells <- sample(colnames(combined_data), size = 10000)\n",
    "# combined_data <- subset(combined_data, cells = subset_cells)\n",
    "\n",
    "# 2. Use a subset of features\n",
    "# combined_data <- FindClusters(combined_data, features = VariableFeatures(combined_data)[1:1000], resolution = 1.0, algorithm = 1)\n",
    "\n",
    "# 3. Disable future and run sequentially\n",
    "# combined_data <- FindClusters(combined_data, resolution = 1.0, algorithm = 1, future.use.globals = FALSE)"
   ]
  },
  {
   "cell_type": "code",
   "execution_count": null,
   "metadata": {},
   "outputs": [],
   "source": [
    "%%R\n",
    "# Save the Seurat object\n",
    "saveRDS(combined_data, file = \"./output/GSE171266_processed.rds\")"
   ]
  },
  {
   "cell_type": "code",
   "execution_count": null,
   "metadata": {},
   "outputs": [],
   "source": [
    "%%R\n",
    "# Load the saved Seurat object\n",
    "combined_data <- readRDS(\"./output/GSE171266_processed.rds\")"
   ]
  },
  {
   "cell_type": "code",
   "execution_count": null,
   "metadata": {},
   "outputs": [],
   "source": [
    "%%R\n",
    "# Plot UMAP\n",
    "p1 <- DimPlot(combined_data, reduction = \"umap\", group.by = \"sample\")\n",
    "p2 <- DimPlot(combined_data, reduction = \"umap\", group.by = \"seurat_clusters\")\n",
    "print(p1 + p2)"
   ]
  },
  {
   "cell_type": "code",
   "execution_count": null,
   "metadata": {},
   "outputs": [],
   "source": []
  }
 ],
 "metadata": {
  "kernelspec": {
   "display_name": "jupyter",
   "language": "python",
   "name": "jupyter"
  },
  "language_info": {
   "codemirror_mode": {
    "name": "ipython",
    "version": 3
   },
   "file_extension": ".py",
   "mimetype": "text/x-python",
   "name": "python",
   "nbconvert_exporter": "python",
   "pygments_lexer": "ipython3",
   "version": "3.11.8"
  }
 },
 "nbformat": 4,
 "nbformat_minor": 2
}
